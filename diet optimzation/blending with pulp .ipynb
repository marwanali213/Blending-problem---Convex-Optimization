{
 "cells": [
  {
   "cell_type": "markdown",
   "id": "a9d1790e",
   "metadata": {},
   "source": [
    "# Bob wants to plan a nutritious diet, but he is on a\n",
    "limited budget, so he wants to spend as little money\n",
    "as possible. His nutritional requirements are as\n",
    "follows:\n",
    "1. 2000 kcal\n",
    "2. 55 g protein\n",
    "3. 800 mg calcium"
   ]
  },
  {
   "cell_type": "code",
   "execution_count": 1,
   "id": "bb8745be",
   "metadata": {},
   "outputs": [],
   "source": [
    "from pulp import * "
   ]
  },
  {
   "cell_type": "markdown",
   "id": "95e39671",
   "metadata": {},
   "source": [
    "# Bob is considering the following foods: "
   ]
  },
  {
   "cell_type": "code",
   "execution_count": 2,
   "id": "e7123e4f",
   "metadata": {},
   "outputs": [],
   "source": [
    "# First dictionary: food\n",
    "food = ['Oatmeal', 'Chicken', 'Eggs', 'Whole milk', 'Cherry pie', 'Beef and beans']\n",
    "\n",
    "# Second dictionary: prices\n",
    "prices = {\n",
    "    'Oatmeal': 0.3,\n",
    "    'Chicken': 2.4,\n",
    "    'Eggs': 1.3,\n",
    "    'Whole milk': 0.9,\n",
    "    'Cherry pie': 2.0,\n",
    "    'Beef and beans': 1.9\n",
    "}\n",
    "\n",
    "# Third dictionary: energy\n",
    "energy = {\n",
    "    'Oatmeal': 110,\n",
    "    'Chicken': 205,\n",
    "    'Eggs': 160,\n",
    "    'Whole milk': 160,\n",
    "    'Cherry pie': 420,\n",
    "    'Beef and beans': 260\n",
    "}\n",
    "\n",
    "# Fourth dictionary: protein\n",
    "protein = {\n",
    "    'Oatmeal': 4,\n",
    "    'Chicken': 32,\n",
    "    'Eggs': 13,\n",
    "    'Whole milk': 8,\n",
    "    'Cherry pie': 4,\n",
    "    'Beef and beans': 14 \n",
    "}\n",
    "\n",
    "# Fifth dictionary: calcium\n",
    "calcium = {\n",
    "    'Oatmeal': 2,\n",
    "    'Chicken': 12,\n",
    "    'Eggs': 54,\n",
    "    'Whole milk': 285,\n",
    "    'Cherry pie': 22,\n",
    "    'Beef and beans': 80\n",
    "}\n"
   ]
  },
  {
   "cell_type": "code",
   "execution_count": 3,
   "id": "eb76f3fc",
   "metadata": {},
   "outputs": [],
   "source": [
    "#initiate the problem and add the gaol of the function\n",
    "problem=LpProblem(\"DietProblem\",LpMinimize)"
   ]
  },
  {
   "cell_type": "code",
   "execution_count": 4,
   "id": "2813e338",
   "metadata": {},
   "outputs": [
    {
     "name": "stdout",
     "output_type": "stream",
     "text": [
      "status Not Solved\n"
     ]
    }
   ],
   "source": [
    "print(\"status\",LpStatus[problem.status])\n",
    "#the ststaus of the problem"
   ]
  },
  {
   "cell_type": "code",
   "execution_count": 5,
   "id": "c0cf195a",
   "metadata": {},
   "outputs": [],
   "source": [
    "#add the decision variable \n",
    "food_variables =LpVariable.dicts(\"ServingAmount\",food,0)\n",
    "#.dicts means that we're reading a dictionaries variables \n",
    "#first parameter is for variable name\n",
    "#second is which variable we want to read \n",
    "#third parameter is to asign the lower bound to be 0 and not to contain any negative value for serving amount"
   ]
  },
  {
   "cell_type": "code",
   "execution_count": 6,
   "id": "53fe447b",
   "metadata": {},
   "outputs": [],
   "source": [
    "problem+= lpSum(prices[i]*food_variables[i] for i in food)"
   ]
  },
  {
   "cell_type": "code",
   "execution_count": 7,
   "id": "fcba0779",
   "metadata": {},
   "outputs": [],
   "source": [
    "problem+= lpSum(energy[i]*food_variables[i] for i in food)>=2000\n",
    "#we added the first constraint which is the energy ,a for loop with each food item and it's energy  \n",
    "#and then added a condition to create a more than 2000 calories in day constraint \n",
    "#we will reapeat the same step but for every constraint with different conditions \n",
    "#note : we cant use > or < , it should be >= or =< or it will lead to a syntax error  "
   ]
  },
  {
   "cell_type": "code",
   "execution_count": 8,
   "id": "36730f9a",
   "metadata": {},
   "outputs": [],
   "source": [
    " problem+=lpSum(protein[i]*food_variables[i]for i in food)>=55"
   ]
  },
  {
   "cell_type": "code",
   "execution_count": 9,
   "id": "91b5dde5",
   "metadata": {},
   "outputs": [],
   "source": [
    " problem+=lpSum(calcium[i]*food_variables[i]for i in food)>=800"
   ]
  },
  {
   "cell_type": "code",
   "execution_count": 10,
   "id": "1daa762f",
   "metadata": {},
   "outputs": [
    {
     "data": {
      "text/plain": [
       "1"
      ]
     },
     "execution_count": 10,
     "metadata": {},
     "output_type": "execute_result"
    }
   ],
   "source": [
    "problem.solve()\n",
    "#As easy as it looks, the blending problem got solved"
   ]
  },
  {
   "cell_type": "code",
   "execution_count": 11,
   "id": "16008d96",
   "metadata": {},
   "outputs": [
    {
     "name": "stdout",
     "output_type": "stream",
     "text": [
      "status Optimal\n"
     ]
    }
   ],
   "source": [
    "print(\"status\",LpStatus[problem.status])\n",
    "#the ststaus of the problem"
   ]
  },
  {
   "cell_type": "code",
   "execution_count": 12,
   "id": "e39c5e47",
   "metadata": {},
   "outputs": [
    {
     "name": "stdout",
     "output_type": "stream",
     "text": [
      "ServingAmount_Beef_and_beans  :  0.0\n",
      "ServingAmount_Cherry_pie  :  0.0\n",
      "ServingAmount_Chicken  :  0.0\n",
      "ServingAmount_Eggs  :  0.0\n",
      "ServingAmount_Oatmeal  :  14.24428\n",
      "ServingAmount_Whole_milk  :  2.7070577\n"
     ]
    }
   ],
   "source": [
    "for v in problem.variables():\n",
    "    print(v.name,\" : \",v.varValue)"
   ]
  },
  {
   "cell_type": "code",
   "execution_count": 13,
   "id": "10e6ca6c",
   "metadata": {},
   "outputs": [
    {
     "name": "stdout",
     "output_type": "stream",
     "text": [
      "Total cost of the plan = 6.709635929999999\n"
     ]
    }
   ],
   "source": [
    "print (\"Total cost of the plan =\", value(problem.objective))"
   ]
  }
 ],
 "metadata": {
  "kernelspec": {
   "display_name": "Python 3 (ipykernel)",
   "language": "python",
   "name": "python3"
  },
  "language_info": {
   "codemirror_mode": {
    "name": "ipython",
    "version": 3
   },
   "file_extension": ".py",
   "mimetype": "text/x-python",
   "name": "python",
   "nbconvert_exporter": "python",
   "pygments_lexer": "ipython3",
   "version": "3.11.3"
  }
 },
 "nbformat": 4,
 "nbformat_minor": 5
}
